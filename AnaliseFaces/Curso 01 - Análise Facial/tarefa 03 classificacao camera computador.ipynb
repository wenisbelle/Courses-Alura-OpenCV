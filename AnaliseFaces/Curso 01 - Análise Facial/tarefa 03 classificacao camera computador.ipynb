{
 "cells": [
  {
   "cell_type": "code",
   "execution_count": 42,
   "id": "d897ced0-46a2-4ef8-89ba-3790a4493f5d",
   "metadata": {},
   "outputs": [],
   "source": [
    "from io import BytesIO\n",
    "from IPython.display import clear_output, Image, display\n",
    "from PIL import Image as Img\n",
    "import cv2\n",
    "from os import listdir\n",
    "from os.path import isfile, join\n",
    "import numpy as np\n",
    "\n",
    "def padronizar_imagem(imagem):\n",
    "    imagem = cv2.cvtColor(imagem, cv2.COLOR_BGR2RGB)\n",
    "    imagem = cv2.resize(imagem, (400,300))\n",
    "    return imagem\n",
    "\n",
    "def exibir_video(frame):\n",
    "    img = Img.fromarray(frame, \"RGB\")\n",
    "    buffer = BytesIO()\n",
    "    img.save(buffer, format=\"JPEG\")\n",
    "    display(Image(data=buffer.getvalue()))\n",
    "    clear_output(wait=True)"
   ]
  },
  {
   "cell_type": "markdown",
   "id": "20f70d75-1afb-4685-abe3-67517d65e674",
   "metadata": {},
   "source": [
    "Vamos agora criar um loop infinito (ou até que seja acionada a interrupção do Kernel, no Notebook clique no menu Kernal e depois em “Interrupt”), para exibir a câmera do notebook.\n",
    "\n",
    "Repare que o valor no cv2.VideoCapture(0) refere-se à primeira câmera conectada no seu computador. Se houver mais câmeras você pode trocar este número.\n",
    "\n",
    "Se durante a execução houver algum travamento da câmera, crie uma célula nova no Notebook e envie o comando captura_video.release().}"
   ]
  },
  {
   "cell_type": "code",
   "execution_count": 41,
   "id": "a1a01e0a-656d-4b34-ae47-e2ae8d0013b3",
   "metadata": {},
   "outputs": [
    {
     "name": "stdout",
     "output_type": "stream",
     "text": [
      "Interrompido\n"
     ]
    }
   ],
   "source": [
    "captura_video = cv2.VideoCapture(0)\n",
    "\n",
    "pathfile_haar = \"/home/svtrp/anaconda3/envs/wenisSVTRP/share/opencv4/haarcascades/haarcascade_frontalface_default.xml\"\n",
    "classificador_face = cv2.CascadeClassifier(pathfile_haar)\n",
    "\n",
    "contador = 0\n",
    "\n",
    "try:\n",
    "    while(True):\n",
    "        captura_ok, frame = captura_video.read()\n",
    "\n",
    "        if captura_ok:\n",
    "            frame = padronizar_imagem(frame)\n",
    "            frame_gray = cv2.cvtColor(frame, cv2.COLOR_RGB2GRAY)\n",
    "\n",
    "            faces = classificador_face.detectMultiScale(frame_gray, 1.3, 5)\n",
    "\n",
    "            if len(faces) > 0:\n",
    "                contador += 1\n",
    "                if contador <= 100:\n",
    "                    for (x,y,w,h) in faces:\n",
    "                        roi = frame_gray[y:y+h, x:x+w]\n",
    "                        cv2.resize(roi, (200, 200), interpolation=cv2.INTER_LANCZOS4)\n",
    "                        cv2.imwrite(\"imagens/wenis/\" + str(contador) + \".png\", roi)\n",
    "                        cv2.putText(frame, \"Coletado \" + str(contador) + \" faces\", (20,20), cv2.FONT_HERSHEY_SIMPLEX, 0.5, (255,255,0), 2)\n",
    "                else:\n",
    "                    cv2.putText(frame, \"ConcluIdo\", (20,20), cv2.FONT_HERSHEY_SIMPLEX, 0.5, (255,255,0), 2)\n",
    "\n",
    "            exibir_video(frame)\n",
    "\n",
    "except KeyboardInterrupt:\n",
    "    captura_video.release()\n",
    "    print(\"Interrompido\")"
   ]
  },
  {
   "cell_type": "markdown",
   "id": "60250886-0cec-46b3-943a-b5f2159dac6c",
   "metadata": {},
   "source": [
    "OK, até aqui você deve estar se vendo na tela do Notebook.\n",
    "\n",
    "Agora, vamos aplicar um classificador de cascata de Haar de face frontal e extrair 100 exemplos. Vamos aproveitar para salvar a imagem já no formato de escala de cinza.\n",
    "\n",
    "Veja que adicionamos no código anterior as etapas de extração de região de interesse, redimensionamento para 200x200 e exportação de arquivo externo.\n",
    "\n",
    "Uma vez que atingir a quantidade limite, avisamos na tela para que seja interrompido. Do contrário, exibimos o contador até alcançar 100.\n",
    "\n",
    "Antes de prosseguir, crie uma pasta com seu nome dentro da pasta imagens. No meu caso usei meu nome."
   ]
  },
  {
   "cell_type": "markdown",
   "id": "2b1283e0-34c4-4791-9c2c-2efab87c35b8",
   "metadata": {},
   "source": [
    "OK, até aqui você deve estar se vendo na tela do Notebook.\n",
    "\n",
    "Agora, vamos aplicar um classificador de cascata de Haar de face frontal e extrair 100 exemplos. Vamos aproveitar para salvar a imagem já no formato de escala de cinza.\n",
    "\n",
    "Veja que adicionamos no código anterior as etapas de extração de região de interesse, redimensionamento para 200x200 e exportação de arquivo externo.\n",
    "\n",
    "Uma vez que atingir a quantidade limite, avisamos na tela para que seja interrompido. Do contrário, exibimos o contador até alcançar 100.\n",
    "\n",
    "Antes de prosseguir, crie uma pasta com seu nome dentro da pasta imagens. No meu caso usei meu nome.\n"
   ]
  },
  {
   "cell_type": "markdown",
   "id": "6eff5267-6789-441f-abdc-e28aa0b10bae",
   "metadata": {},
   "source": [
    "Agora que temos as imagens, vamos construir nosso classificador com o algoritmo de LBPH."
   ]
  },
  {
   "cell_type": "code",
   "execution_count": 43,
   "id": "7e6c82d0-e2b0-4ae0-b555-fd36a857663e",
   "metadata": {},
   "outputs": [],
   "source": [
    "faces_caminho_treinamento = \"imagens/wenis/\"\n",
    "lista_faces_treinamento = [f for f in listdir(faces_caminho_treinamento) if isfile(join(faces_caminho_treinamento, f))]"
   ]
  },
  {
   "cell_type": "code",
   "execution_count": 44,
   "id": "c7dd65be-b70b-4477-9c2f-2c4082e4c5cb",
   "metadata": {},
   "outputs": [],
   "source": [
    "dados_treinamento, sujeitos = [], []\n",
    "\n",
    "for i, arquivo in enumerate(lista_faces_treinamento):\n",
    "    imagem_caminho = faces_caminho_treinamento + arquivo\n",
    "    imagem = cv2.imread(imagem_caminho, cv2.IMREAD_GRAYSCALE)\n",
    "    dados_treinamento.append(imagem)\n",
    "    sujeitos.append(0)\n",
    "\n",
    "sujeitos = np.asarray(sujeitos, dtype=np.int32)\n"
   ]
  },
  {
   "cell_type": "markdown",
   "id": "9a8a0e26-9b33-462b-811d-036dbbcd55d6",
   "metadata": {},
   "source": [
    "Só existe uma pessoa, por isso vamos cravar o número 0"
   ]
  },
  {
   "cell_type": "code",
   "execution_count": 45,
   "id": "a3dd6c03-28f4-4718-a6ee-ca0679d9bea7",
   "metadata": {},
   "outputs": [],
   "source": [
    "model_lbph = cv2.face.LBPHFaceRecognizer_create()\n",
    "model_lbph.train(dados_treinamento, sujeitos)"
   ]
  },
  {
   "cell_type": "markdown",
   "id": "a805f5ac-e65b-4deb-bb4f-96914cc90105",
   "metadata": {},
   "source": [
    "Finalmente, vamos copiar o código que usamos para extrair os exemplos e adaptar o modelo para inferir, frame a frame, a similaridade do rosto apresentado com o que treinamos.\n",
    "\n",
    "Geralmente, a similaridade não deve passar de 40. Faça seu teste.\n",
    "\n",
    "Agora, utilizando seu smartphone, procure por outro rosto e coloque na frente da câmera do computador. Perceba que a similaridade aumentou bastante, pois é um rosto bem diferente do que treinamos."
   ]
  },
  {
   "cell_type": "code",
   "execution_count": 46,
   "id": "b0886df2-1bc9-4da4-b10f-dae6e61b83c3",
   "metadata": {},
   "outputs": [
    {
     "name": "stdout",
     "output_type": "stream",
     "text": [
      "Interrompido\n"
     ]
    }
   ],
   "source": [
    "captura_video = cv2.VideoCapture(0)\n",
    "\n",
    "pathfile_haar = \"/home/svtrp/anaconda3/envs/wenisSVTRP/share/opencv4/haarcascades/haarcascade_frontalface_default.xml\"\n",
    "classificador_face = cv2.CascadeClassifier(pathfile_haar)\n",
    "contador = 0\n",
    "\n",
    "try:\n",
    "    while(True):\n",
    "        captura_ok, frame = captura_video.read()\n",
    "\n",
    "        if captura_ok:\n",
    "            frame = padronizar_imagem(frame)\n",
    "            frame_gray = cv2.cvtColor(frame, cv2.COLOR_RGB2GRAY)\n",
    "            faces = classificador_face.detectMultiScale(frame_gray, 1.3, 5)\n",
    "\n",
    "            if len(faces) > 0:\n",
    "                for (x,y,w,h) in faces:\n",
    "                    roi = frame_gray[y:y+h, x:x+w]\n",
    "                    roi = cv2.resize(roi, (200, 200), interpolation=cv2.INTER_LANCZOS4)\n",
    "                    predicao = model_lbph.predict(roi)\n",
    "                    cv2.putText(frame, \"Similaridade \" + str(predicao[1]), (x,y), cv2.FONT_HERSHEY_SIMPLEX, 0.5, (255,255,0), 2)\n",
    "\n",
    "            exibir_video(frame)\n",
    "\n",
    "except KeyboardInterrupt:\n",
    "    captura_video.release()\n",
    "    print(\"Interrompido\")"
   ]
  },
  {
   "cell_type": "code",
   "execution_count": null,
   "id": "4501a21d-69a1-4480-9f42-b2a75ae204cf",
   "metadata": {},
   "outputs": [],
   "source": []
  }
 ],
 "metadata": {
  "kernelspec": {
   "display_name": "Python 3 (ipykernel)",
   "language": "python",
   "name": "python3"
  },
  "language_info": {
   "codemirror_mode": {
    "name": "ipython",
    "version": 3
   },
   "file_extension": ".py",
   "mimetype": "text/x-python",
   "name": "python",
   "nbconvert_exporter": "python",
   "pygments_lexer": "ipython3",
   "version": "3.11.7"
  }
 },
 "nbformat": 4,
 "nbformat_minor": 5
}
